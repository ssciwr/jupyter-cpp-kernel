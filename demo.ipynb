{
 "cells": [
  {
   "cell_type": "markdown",
   "id": "c544a25c",
   "metadata": {},
   "source": [
    "# C++ in Jupyter Notebooks"
   ]
  },
  {
   "cell_type": "markdown",
   "id": "5a13be46",
   "metadata": {},
   "source": [
    "A simple hello world:"
   ]
  },
  {
   "cell_type": "code",
   "execution_count": 16,
   "id": "a3c5e1ca",
   "metadata": {},
   "outputs": [],
   "source": [
    "#include<iostream>\n",
    "#include<string>"
   ]
  },
  {
   "cell_type": "code",
   "execution_count": 5,
   "id": "c6539605",
   "metadata": {},
   "outputs": [
    {
     "name": "stdout",
     "output_type": "stream",
     "text": [
      "Hello World\n"
     ]
    }
   ],
   "source": [
    "std::cout << \"Hello World\" << std::endl;"
   ]
  },
  {
   "cell_type": "markdown",
   "id": "09e22323",
   "metadata": {},
   "source": [
    "In contrast to actual C++, symbols can be redefined in Jupyter (as opposed to C++), leading to a new allocation. This is required to be able to execute cells multiple times:"
   ]
  },
  {
   "cell_type": "code",
   "execution_count": 15,
   "id": "566d6169",
   "metadata": {},
   "outputs": [
    {
     "name": "stdout",
     "output_type": "stream",
     "text": [
      "0x7f1f54417048\n"
     ]
    }
   ],
   "source": [
    "int x = 0;\n",
    "std::cout << &x << std::endl;"
   ]
  },
  {
   "cell_type": "markdown",
   "id": "2a6485ce",
   "metadata": {},
   "source": [
    "For classes, the entire class must be placed in one cell. This is no problem for simple educational examples, but might become unwieldy for large classes:"
   ]
  },
  {
   "cell_type": "code",
   "execution_count": 17,
   "id": "817be9ce",
   "metadata": {},
   "outputs": [],
   "source": [
    "class Person\n",
    "{\n",
    "    public:\n",
    "    Person(std::string name, unsigned int age)\n",
    "      : name(name), age(age)\n",
    "    {}\n",
    "    \n",
    "    void greet() const \n",
    "    {\n",
    "        std::cout << \"Hello \" << name << std::endl;\n",
    "    }\n",
    "    \n",
    "    private:\n",
    "    std::string name;\n",
    "    unsigned int age;\n",
    "};"
   ]
  },
  {
   "cell_type": "code",
   "execution_count": 21,
   "id": "c063eff2",
   "metadata": {},
   "outputs": [
    {
     "name": "stdout",
     "output_type": "stream",
     "text": [
      "Hello Sam\n"
     ]
    }
   ],
   "source": [
    "Person sam(\"Sam\", 42) ;\n",
    "sam.greet();"
   ]
  },
  {
   "cell_type": "code",
   "execution_count": null,
   "id": "1f7ac398",
   "metadata": {},
   "outputs": [],
   "source": []
  }
 ],
 "metadata": {
  "kernelspec": {
   "display_name": "C++17",
   "language": "C++17",
   "name": "xcpp17"
  },
  "language_info": {
   "codemirror_mode": "text/x-c++src",
   "file_extension": ".cpp",
   "mimetype": "text/x-c++src",
   "name": "c++",
   "version": "17"
  }
 },
 "nbformat": 4,
 "nbformat_minor": 5
}
