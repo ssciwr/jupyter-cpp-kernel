{
 "cells": [
  {
   "cell_type": "markdown",
   "id": "c544a25c",
   "metadata": {},
   "source": [
    "# C++ in Jupyter Notebooks"
   ]
  },
  {
   "cell_type": "markdown",
   "id": "5a13be46",
   "metadata": {},
   "source": [
    "A simple hello world:"
   ]
  },
  {
   "cell_type": "code",
   "execution_count": null,
   "id": "a3c5e1ca",
   "metadata": {},
   "outputs": [],
   "source": [
    "#include<iostream>\n",
    "#include<string>\n",
    "#include<vector>"
   ]
  },
  {
   "cell_type": "code",
   "execution_count": null,
   "id": "c6539605",
   "metadata": {},
   "outputs": [],
   "source": [
    "std::cout << \"Hello World\" << std::endl;"
   ]
  },
  {
   "cell_type": "markdown",
   "id": "09e22323",
   "metadata": {},
   "source": [
    "In contrast to actual C++, symbols can be redefined in Jupyter (as opposed to C++), leading to a new allocation. This is required to be able to execute cells multiple times:"
   ]
  },
  {
   "cell_type": "code",
   "execution_count": null,
   "id": "566d6169",
   "metadata": {},
   "outputs": [],
   "source": [
    "int x = 0;\n",
    "std::cout << &x << std::endl;"
   ]
  },
  {
   "cell_type": "markdown",
   "id": "2a6485ce",
   "metadata": {},
   "source": [
    "For classes, the entire class must be placed in one cell. This is no problem for simple educational examples, but might become unwieldy for large classes:"
   ]
  },
  {
   "cell_type": "code",
   "execution_count": null,
   "id": "817be9ce",
   "metadata": {},
   "outputs": [],
   "source": [
    "class Person\n",
    "{\n",
    "    public:\n",
    "    Person(std::string name, unsigned int age)\n",
    "      : name(name), age(age)\n",
    "    {}\n",
    "    \n",
    "    void greet() const \n",
    "    {\n",
    "        std::cout << \"Hello \" << name << std::endl;\n",
    "    }\n",
    "    \n",
    "    std::string getName() const\n",
    "    {\n",
    "        return name;\n",
    "    }\n",
    "    \n",
    "    unsigned int getAge() const\n",
    "    {\n",
    "        return age;\n",
    "    }\n",
    "    \n",
    "    private:\n",
    "    std::string name;\n",
    "    unsigned int age;\n",
    "};"
   ]
  },
  {
   "cell_type": "code",
   "execution_count": null,
   "id": "c063eff2",
   "metadata": {},
   "outputs": [],
   "source": [
    "Person sam(\"Sam\", 42) ;\n",
    "sam.greet();"
   ]
  },
  {
   "cell_type": "markdown",
   "id": "95a66681",
   "metadata": {},
   "source": [
    "One significant advantage of Jupyter for C++ is the integration with help websites for the standard library."
   ]
  },
  {
   "cell_type": "code",
   "execution_count": null,
   "id": "8b7dfea0",
   "metadata": {},
   "outputs": [],
   "source": [
    "?std::vector"
   ]
  },
  {
   "cell_type": "markdown",
   "id": "9a40adc6",
   "metadata": {},
   "source": [
    "The same works based on objects instead of types/templates:"
   ]
  },
  {
   "cell_type": "code",
   "execution_count": null,
   "id": "e83ef8ba",
   "metadata": {},
   "outputs": [],
   "source": [
    "std::vector<double> v{1,2,3};"
   ]
  },
  {
   "cell_type": "code",
   "execution_count": null,
   "id": "31edb9cd",
   "metadata": {},
   "outputs": [],
   "source": [
    "?v"
   ]
  },
  {
   "cell_type": "markdown",
   "id": "4b113c8f",
   "metadata": {},
   "source": [
    "As known from Jupyter for Python, there is the possibility to inspect variables by printing them in a cell. This works for all PODs and for those containers where `xeus-cling` explicitly implemented it. A function overload for custom types can be provided and gives users access to the Jupyter rich display mechanism - one can e.g. visualize data structures with (vector) images."
   ]
  },
  {
   "cell_type": "code",
   "execution_count": null,
   "id": "060db4da",
   "metadata": {},
   "outputs": [],
   "source": [
    "x"
   ]
  },
  {
   "cell_type": "code",
   "execution_count": null,
   "id": "68ea4dfd",
   "metadata": {},
   "outputs": [],
   "source": [
    "v"
   ]
  },
  {
   "cell_type": "code",
   "execution_count": null,
   "id": "0db9a332",
   "metadata": {},
   "outputs": [],
   "source": [
    "sam"
   ]
  },
  {
   "cell_type": "code",
   "execution_count": null,
   "id": "af7ffdd2",
   "metadata": {},
   "outputs": [],
   "source": [
    "#include<nlohmann/json.hpp>\n",
    "\n",
    "nlohmann::json mime_bundle_repr(const Person& p)\n",
    "{\n",
    "  nlohmann::json bundle;\n",
    "  bundle[\"text/plain\"] = \"A person called \" + p.getName();\n",
    "  return bundle;\n",
    "}"
   ]
  },
  {
   "cell_type": "code",
   "execution_count": null,
   "id": "6bd7296c",
   "metadata": {},
   "outputs": [],
   "source": [
    "sam"
   ]
  },
  {
   "cell_type": "markdown",
   "id": "0488a75d",
   "metadata": {},
   "source": [
    "Another feature that may be interesting to look at for teaching is e.g. the `%timeit` line magic:"
   ]
  },
  {
   "cell_type": "code",
   "execution_count": null,
   "id": "63c19272",
   "metadata": {},
   "outputs": [],
   "source": [
    "%timeit std::vector<double> x(10000);"
   ]
  },
  {
   "cell_type": "markdown",
   "id": "1cc781a0",
   "metadata": {},
   "source": [
    "There is a notable downside: Interpreting C++ technically means \"incremental just in time compilation\". Erroneous input can corrupt the interpreter state. As a consequence, you might get spurious errors after the first one which require a kernel restart."
   ]
  },
  {
   "cell_type": "code",
   "execution_count": null,
   "id": "8e43ead8",
   "metadata": {},
   "outputs": [],
   "source": []
  }
 ],
 "metadata": {
  "kernelspec": {
   "display_name": "C++17",
   "language": "C++17",
   "name": "xcpp17"
  },
  "language_info": {
   "codemirror_mode": "text/x-c++src",
   "file_extension": ".cpp",
   "mimetype": "text/x-c++src",
   "name": "c++",
   "version": "17"
  }
 },
 "nbformat": 4,
 "nbformat_minor": 5
}
